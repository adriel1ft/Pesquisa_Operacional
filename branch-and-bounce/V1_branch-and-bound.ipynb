{
 "cells": [
  {
   "cell_type": "code",
   "execution_count": 12,
   "metadata": {},
   "outputs": [],
   "source": [
    "from mip import Model, maximize,CONTINUOUS, BINARY, xsum\n",
    "from collections import deque"
   ]
  },
  {
   "cell_type": "markdown",
   "metadata": {},
   "source": [
    "## Passo a passo\n",
    "\n",
    "1. Formular o Problema. Python-mip\n",
    "2. Criar Nó raiz (representa o problema original)\n",
    "3. Resolver o Nó raiz (com relaxação)\n",
    "4. Verificar a Solução. (Se a solução inteira é viável. If not, ramificar)\n",
    "5. Ramificar (Branching)\n",
    "    - Identificar a variável mais próxima de 0.5.\n",
    "    No caso $x_j$.\n",
    "    - Criar 2 nós filhos.\n",
    "    x_left =0 , x_rigth = 1\n",
    "6. Resolver os nós filhos.\n",
    "7. Poda.\n",
    "8. Atuaizar UB e LB\n",
    "9. Continuar a busca\n",
    "9. Critérios de parada (infeasible ou no solution)\n"
   ]
  },
  {
   "cell_type": "code",
   "execution_count": 4,
   "metadata": {},
   "outputs": [],
   "source": [
    "class Problem:\n",
    "    def __init__(self, objective_coeffs, constraints_coeffs, constraints_rhs):\n",
    "        self.objective_coeffs = objective_coeffs #coef das funcoes objetivo. ex Max 5x2+6x1. a lista seria [\n",
    "        self.constraints_coeffs = constraints_coeffs #coefs das restricçoes do problema\n",
    "        self.constraints_rhs = constraints_rhs # lados direitos das restricoes"
   ]
  },
  {
   "cell_type": "code",
   "execution_count": 15,
   "metadata": {},
   "outputs": [],
   "source": [
    "class Node:\n",
    "    node_count = 0\n",
    "\n",
    "    def __init__ (self,problem, solution=None, objective_value=None, is_integer_solution=None, parent=None, parent_side=None):\n",
    "        self.node_id = Node.node_count\n",
    "        Node.node_count += 1 #incrementa o id do node\n",
    "        self.problem = problem\n",
    "        self.solution = solution # solução parcial (valor das variáveis)\n",
    "        self.objective_value = objective_value #(valor da função objetivo)\n",
    "        self.is_integer_solution = is_integer_solution\n",
    "        self.parent = parent\n",
    "        self.parent_side = parent_side # Indica se o nó é filho esquerdo ou direito do pai\n",
    "        self.left_child = None\n",
    "        self.right_child = None\n",
    "\n",
    "    def __str__(self):\n",
    "        if self.parent:\n",
    "            parent_id =self.parent.node_id \n",
    "            return f\"Nó {self.node_id} ({self.parent_side} child of {parent_id}), solução = {self.solution}, valor da função objetivo = {self.objective_value}, solução inteira = {self.is_integer_solution}\"\n",
    "        else:\n",
    "            return f\"Nó {self.node_id} (root node)\""
   ]
  },
  {
   "cell_type": "code",
   "execution_count": 11,
   "metadata": {},
   "outputs": [
    {
     "name": "stdout",
     "output_type": "stream",
     "text": [
      "Nó 0 (root node)\n",
      "Nó 1 (left child of 0), solução = [1, 0], valor da função objetivo = 5, solução inteira = False\n",
      "Nó 2 (right child of 0), solução = [0, 1], valor da função objetivo = 6, solução inteira = False\n",
      "Nó 3 (left child of 1), solução = [1, 1], valor da função objetivo = 11, solução inteira = True\n"
     ]
    }
   ],
   "source": [
    "#Exemplo de uso da classe Node\n",
    "\n",
    "root = Node([0, 0], 0, False)\n",
    "p1 = Node([1, 0], 5, False, root, \"left\")\n",
    "p2 = Node([0, 1], 6, False, root, \"right\")\n",
    "p3 = Node([1, 1], 11, True, p1, \"left\")\n",
    "\n",
    "print(root)\n",
    "print(p1)\n",
    "print(p2)\n",
    "print(p3)"
   ]
  },
  {
   "cell_type": "code",
   "execution_count": null,
   "metadata": {},
   "outputs": [],
   "source": [
    "def solve_subproblem(node,problem,branching_var=None):\n",
    "    model = Model()\n",
    "\n",
    "    #variaveis tipo x_1 x_2\n",
    "    variables = [model.add_var(var_type = CONTINUOUS, name=f'x_{i}') for i in range(len(problem.objective_coeffs))]\n",
    "\n",
    "    #funcao objetivo\n",
    "\n",
    "    model.objective = maximize(xsum(problem.objective_coeffs[i] * variables[i] for i in range(len(variables))))\n",
    "\n",
    "    #Restrições\n",
    "    for constraint_coeffs, rhs in zip(problem.constraints_coeffs, problem.constraint_rhs):\n",
    "        model += xsum(constraint_coeffs[i] * variables[i] for i in range(len(variables))) <= rhs\n",
    "\n",
    "\n",
    "    #Adiciona restrição de ramificação xj = 0 ou xj = 1\n",
    "    if node.parent_side == 'left':\n",
    "        model += branching_var == 0\n",
    "    elif node.parent_side == 'right':\n",
    "        model += branching_var == 1\n",
    "\n",
    "    # Resolve o modelo\n",
    "    model.optimize()\n",
    "\n",
    "    # Verifica se a solução é inteira\n",
    "    is_integer_solution = all(var.x == int(var.x) for var in variables)\n",
    "\n",
    "    # Atualização de Nó\n",
    "    node.solution = {var.name: var.x for var in variables}\n",
    "\n",
    "    node.objective_value = model.objective_value\n",
    "    node.is_integer_solution = is_integer_solution"
   ]
  },
  {
   "cell_type": "code",
   "execution_count": null,
   "metadata": {},
   "outputs": [],
   "source": [
    "def identify_branching_variable(node):\n",
    "    variables = node.solution\n",
    "    var_to_be_ramified = min(variables, key = lambda x: abs(variables[x]-0.5))\n",
    "    return var_to_be_ramified"
   ]
  },
  {
   "cell_type": "code",
   "execution_count": null,
   "metadata": {},
   "outputs": [],
   "source": [
    "def create_children_nodes(node):\n",
    "    problem = node.problem\n",
    "    branching_var = identify_branching_variable(node)\n",
    "\n",
    "\n",
    "    # Criação do nó filho esquerdo\n",
    "    left_child = Node(problem,solution=dict(node.solution), parent=node, parent_side=\"left\")\n",
    "    #left_child.solution[branching_var] = 0 isso é estranho\n",
    "    "
   ]
  },
  {
   "cell_type": "code",
   "execution_count": null,
   "metadata": {},
   "outputs": [],
   "source": [
    "def branch_and_bound(problem):\n",
    "\n",
    "    raiz = Node(problem)"
   ]
  },
  {
   "cell_type": "code",
   "execution_count": 17,
   "metadata": {},
   "outputs": [
    {
     "name": "stdout",
     "output_type": "stream",
     "text": [
      "Nó 1 (root node)\n"
     ]
    }
   ],
   "source": [
    "a = Node()\n",
    "print(a)"
   ]
  },
  {
   "cell_type": "code",
   "execution_count": null,
   "metadata": {},
   "outputs": [],
   "source": [
    "def read_data(file_name):\n",
    "    pass"
   ]
  },
  {
   "cell_type": "code",
   "execution_count": null,
   "metadata": {},
   "outputs": [],
   "source": [
    "# Relembrando fila\n",
    "from collections import deque\n",
    "\n",
    "def bfs(graph, starter):\n",
    "    visited = set() #conjnt para armazenar os nós visitado\n",
    "    queue = deque([start])\n",
    "\n",
    "    while queue:\n",
    "        node = queue.popleft() #remove o primeiro elemento da fila\n",
    "        if node not in visited:\n",
    "            print(node)\n",
    "            visited.add(node)\n",
    "            queue.extend(graph[node] - visited) #add vizinhos n visitados a fila\n"
   ]
  },
  {
   "cell_type": "code",
   "execution_count": 11,
   "metadata": {},
   "outputs": [
    {
     "data": {
      "text/plain": [
       "1"
      ]
     },
     "execution_count": 11,
     "metadata": {},
     "output_type": "execute_result"
    }
   ],
   "source": [
    "from collections import deque\n",
    "\n",
    "#deque é uma fila de duas pontas\n",
    "\n",
    "#criando um deque\n",
    "queue = deque([1,2,3,4])\n",
    "queue.popleft()"
   ]
  },
  {
   "cell_type": "code",
   "execution_count": 12,
   "metadata": {},
   "outputs": [
    {
     "data": {
      "text/plain": [
       "deque([2, 3, 4])"
      ]
     },
     "execution_count": 12,
     "metadata": {},
     "output_type": "execute_result"
    }
   ],
   "source": [
    "queue"
   ]
  }
 ],
 "metadata": {
  "kernelspec": {
   "display_name": "base",
   "language": "python",
   "name": "python3"
  },
  "language_info": {
   "codemirror_mode": {
    "name": "ipython",
    "version": 3
   },
   "file_extension": ".py",
   "mimetype": "text/x-python",
   "name": "python",
   "nbconvert_exporter": "python",
   "pygments_lexer": "ipython3",
   "version": "3.9.12"
  }
 },
 "nbformat": 4,
 "nbformat_minor": 2
}
