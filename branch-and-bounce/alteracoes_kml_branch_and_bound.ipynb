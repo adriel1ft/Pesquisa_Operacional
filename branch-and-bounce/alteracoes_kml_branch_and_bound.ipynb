{
  "cells": [
    {
      "cell_type": "code",
      "source": [
        "!pip install mip"
      ],
      "metadata": {
        "id": "sTE2E663Eg47",
        "outputId": "5a21d846-31fe-4a15-bb29-c5fa60b21786",
        "colab": {
          "base_uri": "https://localhost:8080/"
        }
      },
      "execution_count": 1,
      "outputs": [
        {
          "output_type": "stream",
          "name": "stdout",
          "text": [
            "Requirement already satisfied: mip in /usr/local/lib/python3.10/dist-packages (1.15.0)\n",
            "Requirement already satisfied: cffi==1.15.* in /usr/local/lib/python3.10/dist-packages (from mip) (1.15.1)\n",
            "Requirement already satisfied: pycparser in /usr/local/lib/python3.10/dist-packages (from cffi==1.15.*->mip) (2.22)\n"
          ]
        }
      ]
    },
    {
      "cell_type": "code",
      "execution_count": 2,
      "metadata": {
        "id": "AEfcOsSxEaS7"
      },
      "outputs": [],
      "source": [
        "from mip import Model, maximize,CONTINUOUS, BINARY, xsum\n",
        "from collections import deque\n",
        "from queue import PriorityQueue"
      ]
    },
    {
      "cell_type": "markdown",
      "source": [
        "##Descrição geral\n",
        "\n",
        "Neste trabalho, vocês deverão implementar, em qualquer linguagem de programação, o algoritmo branch-and-bound para problemas de programação linear inteira binária. A função objetivo será de maximização e todas as restrições serão de \"menor ou igual\", com exceção daquelas que definem o domínio das variáveis. Não se espera que o(a) discente implemente um algoritmo para resolver os subproblemas (por exemplo, o Simplex), mas que seja usado um pacote de programação linear para resolvê-los (por exemplo, python-mip).\n",
        "\n",
        "###Regra de ramificação\n",
        "\n",
        "A regra de ramificação diz como criar os nós filhos a partir de um nó cuja solução da relaxação linear é fracionária. O código de vocês deve ramificar em torno da variável xj cujo valor seja fracionário e mais próximo de 0,5. Em um filho, adiciona-se a restrição xj = 1; no outro, a restrição xj = 0.\n",
        "\n",
        "###Estratégia de ramificação\n",
        "\n",
        "A estratégia de ramificação determina como a árvore é explorada, ou seja, qual será o próximo nó a ser resolvido.\n"
      ],
      "metadata": {
        "id": "c-dIG84ApvPy"
      }
    },
    {
      "cell_type": "markdown",
      "metadata": {
        "id": "hcF9Mjm1EaS9"
      },
      "source": [
        "## Passo a passo\n",
        "\n",
        "1. Formular o Problema. Python-mip\n",
        "2. Criar Nó raiz (representa o problema original)\n",
        "3. Resolver o Nó raiz (com relaxação)\n",
        "4. Verificar a Solução. (Se a solução inteira é viável. If not, ramificar)\n",
        "5. Ramificar (Branching)\n",
        "    - Identificar a variável mais próxima de 0.5.\n",
        "    No caso $x_j$.\n",
        "    - Criar 2 nós filhos.\n",
        "    x_left =0 , x_rigth = 1\n",
        "6. Resolver os nós filhos.\n",
        "7. Poda.\n",
        "8. Atuaizar UB e LB\n",
        "9. Continuar a busca\n",
        "9. Critérios de parada (infeasible ou no solution)\n"
      ]
    },
    {
      "cell_type": "code",
      "execution_count": 28,
      "metadata": {
        "id": "LEiaVOwQEaTA"
      },
      "outputs": [],
      "source": [
        "class Problem:\n",
        "    def __init__(self, objective_coeffs, constraints_coeffs, constraints_rhs):\n",
        "        self.objective_coeffs = objective_coeffs #coef das funcoes objetivo. ex Max 5x2+6x1. a lista seria [\n",
        "        self.constraints_coeffs = constraints_coeffs #coefs das restricçoes do problema\n",
        "        self.constraints_rhs = constraints_rhs # lados direitos das restricoes\n",
        "\n",
        "        print(objective_coeffs)\n",
        "        print(constraints_coeffs)\n",
        "        print(constraints_rhs)"
      ]
    },
    {
      "cell_type": "code",
      "execution_count": 41,
      "metadata": {
        "id": "7TFME2cIEaTB",
        "colab": {
          "base_uri": "https://localhost:8080/"
        },
        "outputId": "31227081-3fd5-4b6a-9a69-be82d79284c2"
      },
      "outputs": [
        {
          "output_type": "stream",
          "name": "stdout",
          "text": [
            "entrou na classe no\n"
          ]
        }
      ],
      "source": [
        "class Node:\n",
        "    print(\"entrou na classe no\")\n",
        "    node_count = 0\n",
        "\n",
        "    def __init__ (self, problem, solution=None, objective_value=None, is_integer_solution=None, parent=None, parent_side=None):\n",
        "        print(\"inicializou o no\")\n",
        "\n",
        "        self.node_id = Node.node_count\n",
        "        Node.node_count += 1 #incrementa o id do node\n",
        "        self.problem = problem\n",
        "        self.solution = solution # solução parcial (valor das variáveis)\n",
        "        self.objective_value = objective_value #(valor da função objetivo)\n",
        "        self.is_integer_solution = is_integer_solution\n",
        "        self.parent = parent\n",
        "        self.parent_side = parent_side # Indica se o nó é filho esquerdo ou direito do pai\n",
        "        self.left_child = None\n",
        "        self.right_child = None\n",
        "\n",
        "    def __str__(self):\n",
        "        if self.parent:\n",
        "            parent_id =self.parent.node_id\n",
        "            return f\"Nó {self.node_id} ({self.parent_side} child of {parent_id}), solução = {self.solution}, valor da função objetivo = {self.objective_value}, solução inteira = {self.is_integer_solution}\"\n",
        "        else:\n",
        "            return f\"Nó {self.node_id} (root node)\"\n",
        "\n",
        "    #adicionei pq não tinha como comparar node < / > / == node\n",
        "      #usei o objetivo de comparação\n",
        "    def __lt__(self, other):\n",
        "      return self.objective_value < other.objective_value\n",
        "\n",
        "    def solve_subproblem(self, branching_var):\n",
        "      print(\"entrou no solve_subproblem\")\n",
        "      model = Model()\n",
        "\n",
        "      print(\"branching_var: \", branching_var)\n",
        "\n",
        "      #variaveis tipo x_1 x_2\n",
        "      variables = [model.add_var(var_type = CONTINUOUS, name=f'x_{i}') for i in range(len(self.problem.objective_coeffs))]\n",
        "      print(\"variaveis: \", variables)\n",
        "\n",
        "      #funcao objetivo\n",
        "      model.objective = maximize(xsum(self.problem.objective_coeffs[i] * variables[i] for i in range(len(variables))))\n",
        "\n",
        "      #Restrições\n",
        "      for constraint_coeffs, rhs in zip(self.problem.constraints_coeffs, self.problem.constraints_rhs):\n",
        "          model += xsum(constraint_coeffs[i] * variables[i] for i in range(len(variables))) <= rhs\n",
        "\n",
        "      #Adiciona restrição de ramificação xj = 0 ou xj = 1\n",
        "      if self.parent_side == 'left':\n",
        "          model += branching_var == 0\n",
        "      elif self.parent_side == 'right':\n",
        "          model += branching_var == 1\n",
        "\n",
        "      #Resolve o modelo\n",
        "      model.optimize()\n",
        "\n",
        "      #está vazia?\n",
        "      if variables:\n",
        "        #Verifica se a solução é inteira\n",
        "        is_integer_solution = all(var.x == int(var.x) for var in variables)\n",
        "\n",
        "      else:\n",
        "        print(\"Variáveis vazias\")\n",
        "        return\n",
        "\n",
        "      #Atualização de Nó\n",
        "      self.solution = {var.name: var.x for var in variables}\n",
        "      self.objective_value = model.objective_value\n",
        "      self.is_integer_solution = is_integer_solution\n",
        "\n",
        "      if None in variables:\n",
        "        print(\"Algumas variáveis não foram definidas durante a resolução do subproblema.\")\n",
        "        return None"
      ]
    },
    {
      "cell_type": "code",
      "execution_count": 39,
      "metadata": {
        "id": "JBuz8_hqEaTF"
      },
      "outputs": [],
      "source": [
        "def identify_branching_variable(node):\n",
        "    print(\"entrou na identify_branching_variable\")\n",
        "    print(\"no\", node)\n",
        "\n",
        "    variables = node.solution\n",
        "    print(\"variaveis na identify\", variables)\n",
        "\n",
        "    if not variables:\n",
        "      print(\"Não há solução definida\")\n",
        "      return None\n",
        "\n",
        "    #pega os coeficientes da função objetivo do problema\n",
        "    objective_coeffs = node.problem.objective_coeffs\n",
        "    #verificando se da certo\n",
        "    print(\"Objective Coeffs:\", objective_coeffs)\n",
        "\n",
        "    #variáveis com soluções definidas\n",
        "    valid_variables = [var_name for var_name, value in variables.items() if value is not None and var_name.startswith('x_')]\n",
        "\n",
        "    if not valid_variables:\n",
        "      print(\"Nenhuma variável de decisão com solução definida.\")\n",
        "      return None\n",
        "\n",
        "    #variável mais próxima de 0.5\n",
        "    var_to_be_ramified = min(valid_variables, key=lambda var_name: abs(variables[var_name] - 0.5))\n",
        "    return var_to_be_ramified"
      ]
    },
    {
      "cell_type": "code",
      "execution_count": 31,
      "metadata": {
        "id": "ZMDh7mcHEaTF"
      },
      "outputs": [],
      "source": [
        "def create_children_nodes(node):\n",
        "    print(\"entrou na create_children_nodes\")\n",
        "    problem = node.problem\n",
        "    branching_var = identify_branching_variable(node)\n",
        "\n",
        "    if not branching_var:\n",
        "      print(\"Variável de ramificação não encontrada.\")\n",
        "      return\n",
        "\n",
        "    node.solve_subproblem(problem, branching_var)\n",
        "\n",
        "    #filho esquerdo\n",
        "    if node.left_child is not None:\n",
        "      print(\"Nó esquerdo vazio\")\n",
        "    else:\n",
        "      left_child = Node(problem, solution=dict(node.solution), parent=node, parent_side=\"left\")\n",
        "      left_child.solution[branching_var] = 0  #variável de ramo = 0\n",
        "      node.left_child = left_child\n",
        "\n",
        "\n",
        "    #filho direito\n",
        "    if node.right_child is not None:\n",
        "      print(\"Nó direito vazio\")\n",
        "    else:\n",
        "      right_child = Node(problem, solution=dict(node.solution), parent=node, parent_side=\"right\")\n",
        "      right_child.solution[branching_var] = 1  #variável de ramo = 1\n",
        "      node.right_child = right_child"
      ]
    },
    {
      "cell_type": "code",
      "execution_count": 35,
      "metadata": {
        "id": "ISTFasgHEaTF"
      },
      "outputs": [],
      "source": [
        "#criterio de parada forçada = 10\n",
        "\n",
        "def branch_and_bound(problem, max_no_explorados=10):\n",
        "  print(\"entrou na branch_and_bound\")\n",
        "  #inicializa a fila com a raiz\n",
        "  raiz = Node(problem)\n",
        "  no_prioritario = PriorityQueue()\n",
        "  no_prioritario.put((raiz.objective_value, raiz))\n",
        "  solucao_otima = None #vazia enquanto não preenchermos\n",
        "  nos_explorados = 0\n",
        "\n",
        "  #enquanto o no em prioridade existir\n",
        "  while not no_prioritario.empty() and nos_explorados < max_no_explorados:\n",
        "    #pula o no atualk e pega o prox\n",
        "    _, no = no_prioritario.get()\n",
        "\n",
        "    #se for solução inteira    e   a funçao objt é melhor que atual?\n",
        "    if no.is_integer_solution and (solucao_otima is None or no.objective_value > solucao_otima.objective_value):\n",
        "      solucao_otima = no\n",
        "\n",
        "    #pode ser melhor? (essa é a poda, pois impede a exploração dos subnos)\n",
        "    if solucao_otima is not None and no.objective_value <= solucao_otima.objective_value:\n",
        "      #segue para o proximo\n",
        "      continue\n",
        "\n",
        "    branching_var = identify_branching_variable(no)\n",
        "    print(\"branching_var\", branching_var)\n",
        "    if branching_var:\n",
        "        no.solve_subproblem(branching_var)\n",
        "\n",
        "    if no.left_child:\n",
        "      if no.left_child.objective_value is not None:  # Verifica se o valor de objetivo do nó filho esquerdo não é None\n",
        "        no_prioritario.put((no.left_child.objective_value, no.left_child))\n",
        "    if no.right_child:\n",
        "     if no.right_child.objective_value is not None:  # Verifica se o valor de objetivo do nó filho direito não é None\n",
        "        no_prioritario.put((no.right_child.objective_value, no.right_child))\n",
        "\n",
        "    nos_explorados += 1\n",
        "\n",
        "  return solucao_otima"
      ]
    },
    {
      "cell_type": "code",
      "source": [
        "#teste\n",
        "objective_coeffs = [10, 8, 1, 3, 3, 8, 30]  #coeficientes da função objt\n",
        "constraints_coeffs = [\n",
        "    [10, 8, 9, 9, 7, 6, 10, 20],  #coeficientes\n",
        "    [6, 6, 3, 6, 3, 7, 2, 80],\n",
        "    [7, 10, 7, 8, 7, 8, 7, 100],\n",
        "    [9, 8, 1, 1, 8, 10, 2, 90],\n",
        "    [1, 5, 3, 10, 2, 4, 9, 70],\n",
        "    [9, 6, 1, 4, 7, 5, 10, 60],\n",
        "    [5, 7, 4, 4, 3, 4, 10, 40]\n",
        "]\n",
        "constraints_rhs = [8, 9, 7, 8, 7, 8, 7]  #lados direitos das restrições\n",
        "\n",
        "problema = Problem(objective_coeffs, constraints_coeffs, constraints_rhs) #verificado e funcionando\n",
        "\n",
        "solucao_otima = branch_and_bound(problema)\n",
        "\n",
        "if solucao_otima:\n",
        "    print(\"Solução ótima encontrada:\")\n",
        "    print(solucao_otima)\n",
        "else:\n",
        "    print(\"Não foi encontrada uma solução ótima.\")\n",
        "\n",
        "print(problema)\n",
        "print(solucao_otima)"
      ],
      "metadata": {
        "id": "s1RQWm4FVexO",
        "outputId": "9e718bc6-c586-483c-87eb-b1a3f97e6102",
        "colab": {
          "base_uri": "https://localhost:8080/"
        }
      },
      "execution_count": 42,
      "outputs": [
        {
          "output_type": "stream",
          "name": "stdout",
          "text": [
            "[10, 8, 1, 3, 3, 8, 30]\n",
            "[[10, 8, 9, 9, 7, 6, 10, 20], [6, 6, 3, 6, 3, 7, 2, 80], [7, 10, 7, 8, 7, 8, 7, 100], [9, 8, 1, 1, 8, 10, 2, 90], [1, 5, 3, 10, 2, 4, 9, 70], [9, 6, 1, 4, 7, 5, 10, 60], [5, 7, 4, 4, 3, 4, 10, 40]]\n",
            "[8, 9, 7, 8, 7, 8, 7]\n",
            "entrou na branch_and_bound\n",
            "inicializou o no\n",
            "entrou na identify_branching_variable\n",
            "no Nó 0 (root node)\n",
            "variaveis na identify None\n",
            "Não há solução definida\n",
            "branching_var None\n",
            "Não foi encontrada uma solução ótima.\n",
            "<__main__.Problem object at 0x780422ef1840>\n",
            "None\n"
          ]
        }
      ]
    },
    {
      "cell_type": "code",
      "source": [
        "#@title o que tem que consertar\n",
        "'''\n",
        "o solution não acessa nada; o que ele deveria ser?\n",
        "\n",
        "classe: identify_branching_variable(node):\n",
        "    variables = node.solution\n",
        "\n",
        "o erro é nessa linha, pq acaba que o variables feica None\n",
        "\n",
        "tem que consertar isso\n",
        "'''"
      ],
      "metadata": {
        "colab": {
          "base_uri": "https://localhost:8080/",
          "height": 53
        },
        "id": "pxwfBka5vkOx",
        "outputId": "0ba9191f-5adf-4496-96e5-10a1035d47ab"
      },
      "execution_count": 44,
      "outputs": [
        {
          "output_type": "execute_result",
          "data": {
            "text/plain": [
              "'\\no solution não acessa nada; o que ele deveria ser?\\n\\nclasse: identify_branching_variable(node):\\n    variables = node.solution\\n\\no erro é nessa linha, pq acaba que o variables feica None\\n\\ntem que consertar isso\\n'"
            ],
            "application/vnd.google.colaboratory.intrinsic+json": {
              "type": "string"
            }
          },
          "metadata": {},
          "execution_count": 44
        }
      ]
    },
    {
      "cell_type": "code",
      "execution_count": 34,
      "metadata": {
        "id": "TxL7vHUiEaTG"
      },
      "outputs": [],
      "source": [
        "#@title ignorado por ora\n",
        "def read_data(file_name):\n",
        "    pass"
      ]
    }
  ],
  "metadata": {
    "kernelspec": {
      "display_name": "base",
      "language": "python",
      "name": "python3"
    },
    "language_info": {
      "codemirror_mode": {
        "name": "ipython",
        "version": 3
      },
      "file_extension": ".py",
      "mimetype": "text/x-python",
      "name": "python",
      "nbconvert_exporter": "python",
      "pygments_lexer": "ipython3",
      "version": "3.9.12"
    },
    "colab": {
      "provenance": []
    }
  },
  "nbformat": 4,
  "nbformat_minor": 0
}