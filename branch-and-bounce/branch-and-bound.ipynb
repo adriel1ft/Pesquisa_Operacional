{
 "cells": [
  {
   "cell_type": "code",
   "execution_count": 1,
   "metadata": {},
   "outputs": [],
   "source": [
    "from mip import Model, maximize, BINARY, xsum"
   ]
  },
  {
   "cell_type": "code",
   "execution_count": null,
   "metadata": {},
   "outputs": [],
   "source": [
    "class Problem:\n",
    "    def(self, objective_coeffs, constraints_coeffs, constraints_rhs):\n",
    "        self.objective_coeffs = objective_coeffs #coef das funcoes objetivo. ex Max 5x2+6x1. a lista seria [\n",
    "        self.constraints_coeffs = constraints_coeffs #coefs das restricçoes do problema\n",
    "        self.constraints_rhs = constraints_rhs # lados direitos das restricoes"
   ]
  },
  {
   "cell_type": "code",
   "execution_count": null,
   "metadata": {},
   "outputs": [],
   "source": [
    "class Node:\n",
    "    def __init__ (self,problem,solution,lower_bound):\n",
    "        self.problem = problem # caminho até o nó\n",
    "        self.solution = solution\n",
    "        self.lower_bound = lower_bound"
   ]
  },
  {
   "cell_type": "code",
   "execution_count": null,
   "metadata": {},
   "outputs": [],
   "source": [
    "def read_data(file_name):\n",
    "    pass"
   ]
  },
  {
   "cell_type": "code",
   "execution_count": null,
   "metadata": {},
   "outputs": [],
   "source": [
    "# função para resolver os subproblemas\n",
    "\n",
    "def solve_subproblem(problem):\n",
    "    model = Model()\n",
    "\n",
    "    #variaveis tipo x_1 x_2\n",
    "    variables = [model.add_var(var_type = BINARY) for _ in range(len(problem.objective_coeffs))]\n",
    "\n",
    "    #funcao objetivo\n",
    "\n",
    "    model.objective = maximize(xsum(problem.objective_coeffs[i] * variables[i] for i range(len(variables))))\n",
    "\n",
    "    for constraint_coeffs, rhs in zip(problem.constraints_coeffs, problem.constraint_rhs):\n",
    "        model += xsum(constraint_coeffs[i] * variables[i] for i in range(len(variables))) <= rhs\n",
    "\n"
   ]
  }
 ],
 "metadata": {
  "kernelspec": {
   "display_name": "base",
   "language": "python",
   "name": "python3"
  },
  "language_info": {
   "codemirror_mode": {
    "name": "ipython",
    "version": 3
   },
   "file_extension": ".py",
   "mimetype": "text/x-python",
   "name": "python",
   "nbconvert_exporter": "python",
   "pygments_lexer": "ipython3",
   "version": "3.9.12"
  }
 },
 "nbformat": 4,
 "nbformat_minor": 2
}
