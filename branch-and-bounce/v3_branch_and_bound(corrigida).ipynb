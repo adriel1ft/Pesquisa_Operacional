    {
      "cell_type": "markdown",
      "source": [
        "##Passo a passo"
      ],
      "metadata": {
        "id": "Y-RAC3HvFvA2"
      }
    },
    {
      "cell_type": "markdown",
      "metadata": {
        "id": "hcF9Mjm1EaS9"
      },
      "source": [
        "1 - Inicializa um nó raiz, representando o problema original\n",
        "\n",
        "    def __init__(self, objective_coeffs, constraints_coeffs, constraints_rhs)\n",
        "\n",
        "2 - O modelo do problema inteiro é relaxado e resolvido.\n",
        "\n",
        "    #passando a permitir valores fracionários e obtendo tanto uma solução inicial quanto um limite superior.\n",
        "\n",
        "    def branch_and_bound(self, node)\n",
        "\n",
        "    variables = [model.add_var(...]\n",
        "    \n",
        "    model.objective = maximize(....)\n",
        "\n",
        "    for constraint_coeffs, rhs in zip(self.constraints_coeffs, self.constraints_rhs)\n",
        "\n",
        "    model.optimize()\n",
        "\n",
        "3 - Verifica se a solução é inteira\n",
        "\n",
        "    #Se todas as variaveis tem valor 0 ou 1, o nó é considerado viável e para de ser ramificado\n",
        "\n",
        "    if model.num_solutions\n",
        "\n",
        "3.1 - Identificação de Fracionario\n",
        "\n",
        "    Se alguma das variáveis contiver valores entre 0 e 1, ela é identificada e ramificada (fixada no nó filho 0 e no nó filho 1)\n",
        "\n",
        "    frac_var = self.identify_branching_variable(model)\n",
        "    \n",
        "4 - Ramificação e Recursividade\n",
        "    Seguindo de 3.1, os nós filhos são resolvidos pela mesma estrategia até que todas as variáveis tenham valores inteiros em pelo menos uma solução viável (ou até encontrar um limite inferior maior que o limite superior)\n",
        "\n",
        "    if frac_var: (ramifica)\n",
        "\n",
        "5 - Atualização de limites e da melhor solução\n",
        "\n",
        "    if model.num_solutions:\n",
        "      if model.objective_value > self.mlr_sol_atual:\n",
        "        (atualiza)"
      ]
    },
    {
      "cell_type": "code",
      "source": [
        "#@title instaladores\n",
        "!pip install mip"
      ],
      "metadata": {
        "id": "sTE2E663Eg47",
        "outputId": "57037625-8608-4c79-937c-0d6fa1c9f5fe",
        "colab": {
          "base_uri": "https://localhost:8080/"
        },
        "cellView": "form"
      },
      "execution_count": null,
      "outputs": [
        {
          "output_type": "stream",
          "name": "stdout",
          "text": [
            "Requirement already satisfied: mip in /usr/local/lib/python3.10/dist-packages (1.15.0)\n",
            "Requirement already satisfied: cffi==1.15.* in /usr/local/lib/python3.10/dist-packages (from mip) (1.15.1)\n",
            "Requirement already satisfied: pycparser in /usr/local/lib/python3.10/dist-packages (from cffi==1.15.*->mip) (2.22)\n"
          ]
        }
      ]
    },
    {
      "cell_type": "code",
      "execution_count": 34,
      "metadata": {
        "id": "AEfcOsSxEaS7",
        "cellView": "form"
      },
      "outputs": [],
      "source": [
        "#@title bibliotecas\n",
        "\n",
        "from mip import Model, maximize,CONTINUOUS, BINARY, xsum"
      ]
    },
    {
      "cell_type": "code",
      "execution_count": 49,
      "metadata": {
        "id": "7TFME2cIEaTB"
      },
      "outputs": [],
      "source": [
        "class Node:\n",
        "    def __init__(self, problema, no_pai=None, branching_var=None, branch_value=None):\n",
        "        #inicializando o nó\n",
        "        self.problema = problema\n",
        "        self.no_pai = no_pai\n",
        "        self.branching_var = branching_var\n",
        "        self.branch_value = branch_value"
      ]
    },
    {
      "cell_type": "code",
      "execution_count": 61,
      "metadata": {
        "id": "ISTFasgHEaTF"
      },
      "outputs": [],
      "source": [
        "class BranchAndBound:\n",
        "    def __init__(self, objective_coeffs, constraints_coeffs, constraints_rhs):\n",
        "      #inicializando o problema\n",
        "      self.objective_coeffs = objective_coeffs #coef das funcoes objetivo\n",
        "      self.constraints_coeffs = constraints_coeffs #coefs das restricçoes do problema\n",
        "      self.constraints_rhs = constraints_rhs #lados direitos das restricoes\n",
        "      self.solucao_otima = None\n",
        "      self.mlr_sol_atual = float('-inf')\n",
        "\n",
        "    def solve(self):\n",
        "        self.branch_and_bound(Node(problema=self))\n",
        "\n",
        "    def branch_and_bound(self, node):\n",
        "        model = Model()\n",
        "\n",
        "        #variáveis de decisão\n",
        "        variables = [model.add_var(name=f\"x_{i}\", var_type=BINARY) for i in range(len(self.objective_coeffs))]\n",
        "\n",
        "        #função objt\n",
        "        model.objective = maximize(xsum(self.objective_coeffs[i] * variables[i] for i in range(len(variables))))\n",
        "\n",
        "        #organziando as restrições\n",
        "        for constraint_coeffs, rhs in zip(self.constraints_coeffs, self.constraints_rhs):\n",
        "            model += xsum(constraint_coeffs[i] * variables[i] for i in range(len(variables))) <= rhs\n",
        "\n",
        "        model.optimize()\n",
        "\n",
        "        if model.num_solutions:\n",
        "            if model.objective_value > self.mlr_sol_atual:\n",
        "                self.mlr_sol_atual = model.objective_value\n",
        "                self.solucao_otima = {var.name: (var.x, self.objective_coeffs[int(var.name.split('_')[1])]) for var in variables}\n",
        "\n",
        "            frac_var = self.identify_branching_variable(model)\n",
        "            if frac_var:\n",
        "                left_child = Node(problema=self, no_pai=node, branching_var=frac_var, branch_value=0)\n",
        "                right_child = Node(problema=self, no_pai=node, branching_var=frac_var, branch_value=1)\n",
        "                self.branch_and_bound(left_child)\n",
        "                self.branch_and_bound(right_child)\n",
        "\n",
        "    def identify_branching_variable(self, model):\n",
        "        #para todas as variaveis no modelo atual\n",
        "        for var in model.vars:\n",
        "            #verifica se é inteiro ou fracionario\n",
        "            if var.x != 0 and var.x != 1:\n",
        "                return var\n",
        "        return None\n"
      ]
    },
    {
      "cell_type": "code",
      "execution_count": 51,
      "metadata": {
        "id": "TxL7vHUiEaTG"
      },
      "outputs": [],
      "source": [
        "def read_data(file_name):\n",
        "    with open(file_name, 'r') as file:\n",
        "        lines = file.readlines()\n",
        "        #verifica quantas variáveis e restrições (linha 1)\n",
        "        num_vars, num_constraints = map(int, lines[0].split())\n",
        "\n",
        "        #lendo os coeficientes da função objt\n",
        "        objective_coeffs = list(map(int, lines[1].split()))\n",
        "\n",
        "        #lista para armazenar as restrições\n",
        "        constraints_coeffs = []\n",
        "        constraints_rhs = []\n",
        "\n",
        "        #lendo e separando as restrições\n",
        "        for line in lines[2:]:\n",
        "            coeffs_and_rhs = list(map(int, line.split()))\n",
        "            constraints_coeffs.append(coeffs_and_rhs[:-1])\n",
        "            constraints_rhs.append(coeffs_and_rhs[-1])\n",
        "\n",
        "    return num_vars, num_constraints, objective_coeffs, constraints_coeffs, constraints_rhs"
      ]
    },
    {
      "cell_type": "code",
      "source": [
        "for i in range(1, 5):\n",
        "    file_name = f\"teste{i}.txt\"\n",
        "    num_vars, num_constraints, objective_coeffs, constraints_coeffs, constraints_rhs = read_data(file_name)\n",
        "\n",
        "    resolvedor = BranchAndBound(objective_coeffs, constraints_coeffs, constraints_rhs)\n",
        "    resolvedor.solve()\n",
        "\n",
        "    print(f\"Teste {i}:\")\n",
        "    print(\"Melhor solução encontrada: \")\n",
        "    print(\"x_{i} = (valor designado, coeficiente) \")\n",
        "    for var_name, var_value in resolvedor.solucao_otima.items():\n",
        "      print(f\"{var_name} = {var_value}\")\n",
        "    print(\"Valor da função objetivo:\", resolvedor.mlr_sol_atual)\n",
        "    print()\n"
      ],
      "metadata": {
        "colab": {
          "base_uri": "https://localhost:8080/"
        },
        "id": "7gBK2hD-ll0W",
        "outputId": "e8ac28dc-f0dc-47b1-bc48-220f7ac4be05"
      },
      "execution_count": 64,
      "outputs": [
        {
          "output_type": "stream",
          "name": "stdout",
          "text": [
            "Teste 1:\n",
            "Melhor solução encontrada: \n",
            "x_{i} = (valor designado, coeficiente) \n",
            "x_0 = (0.0, 2)\n",
            "x_1 = (0.0, 10)\n",
            "x_2 = (0.0, 8)\n",
            "x_3 = (0.0, 7)\n",
            "x_4 = (1.0, 10)\n",
            "x_5 = (1.0, 10)\n",
            "x_6 = (0.0, 6)\n",
            "Valor da função objetivo: 20.0\n",
            "\n",
            "Teste 2:\n",
            "Melhor solução encontrada: \n",
            "x_{i} = (valor designado, coeficiente) \n",
            "x_0 = (0.0, 7)\n",
            "x_1 = (1.0, 7)\n",
            "x_2 = (0.0, 7)\n",
            "x_3 = (0.0, 5)\n",
            "x_4 = (0.0, 8)\n",
            "x_5 = (1.0, 8)\n",
            "x_6 = (1.0, 9)\n",
            "x_7 = (0.0, 10)\n",
            "x_8 = (0.0, 7)\n",
            "Valor da função objetivo: 24.0\n",
            "\n",
            "Teste 3:\n",
            "Melhor solução encontrada: \n",
            "x_{i} = (valor designado, coeficiente) \n",
            "x_0 = (0.0, 7)\n",
            "x_1 = (0.0, 9)\n",
            "x_2 = (1.0, 10)\n",
            "x_3 = (0.0, 3)\n",
            "x_4 = (0.0, 6)\n",
            "x_5 = (0.0, 1)\n",
            "x_6 = (1.0, 9)\n",
            "x_7 = (0.0, 8)\n",
            "x_8 = (0.0, 8)\n",
            "Valor da função objetivo: 19.0\n",
            "\n",
            "Teste 4:\n",
            "Melhor solução encontrada: \n",
            "x_{i} = (valor designado, coeficiente) \n",
            "x_0 = (0.0, 9)\n",
            "x_1 = (0.0, 7)\n",
            "x_2 = (1.0, 10)\n",
            "x_3 = (0.0, 7)\n",
            "x_4 = (0.0, 9)\n",
            "x_5 = (0.0, 6)\n",
            "x_6 = (0.0, 8)\n",
            "x_7 = (0.0, 4)\n",
            "x_8 = (0.0, 9)\n",
            "Valor da função objetivo: 10.0\n",
            "\n"
          ]
        }
      ]
    }
  ],
  "metadata": {
    "kernelspec": {
      "display_name": "base",
      "language": "python",
      "name": "python3"
    },
    "language_info": {
      "codemirror_mode": {
        "name": "ipython",
        "version": 3
      },
      "file_extension": ".py",
      "mimetype": "text/x-python",
      "name": "python",
      "nbconvert_exporter": "python",
      "pygments_lexer": "ipython3",
      "version": "3.9.12"
    },
    "colab": {
      "provenance": []
    }
  },
  "nbformat": 4,
  "nbformat_minor": 0
}
