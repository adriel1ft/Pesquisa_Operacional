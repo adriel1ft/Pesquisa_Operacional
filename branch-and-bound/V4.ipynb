{
 "cells": [
  {
   "cell_type": "code",
   "execution_count": 31,
   "metadata": {},
   "outputs": [],
   "source": [
    "from mip import Model, CBC ,MAXIMIZE,CONTINUOUS, BINARY, xsum, OptimizationStatus"
   ]
  },
  {
   "cell_type": "code",
   "execution_count": 4,
   "metadata": {},
   "outputs": [],
   "source": [
    "class Problem:\n",
    "    def __init__(self, objective_coeffs, constraints_coeffs, constraints_rhs):\n",
    "        self.objective_coeffs = objective_coeffs #coef das funcoes objetivo.\n",
    "        self.constraints_coeffs = constraints_coeffs #coefs das restricçoes do problema\n",
    "        self.constraints_rhs = constraints_rhs # lados direitos das restricoes\n",
    "\n",
    "    #def __str__(self): #funcao para printar o problema\n",
    "    #   return f\"Maximize {self.objective_coeffs} \\nSubject to {self.constraints_coeffs} <= {self.constraints_rhs}\""
   ]
  },
  {
   "cell_type": "code",
   "execution_count": 12,
   "metadata": {},
   "outputs": [],
   "source": [
    "class No:\n",
    "    def __init__(self, model, solucao=None, no_pai=None, branching_var=None, branch_value=None):\n",
    "        self.no_pai = no_pai\n",
    "        self.model = model\n",
    "        self.branching_var = branching_var\n",
    "        self.branch_value = branch_value\n",
    "        self.solucao = solucao\n",
    "    \n",
    "    ''' def __str__(self):\n",
    "            for var in self.model.vars:\n",
    "                print(f\"{var.name} = {var.x}\")\n",
    "            return self.model.objective_value'''"
   ]
  },
  {
   "cell_type": "code",
   "execution_count": 18,
   "metadata": {},
   "outputs": [],
   "source": [
    "def ler_dados(nome_arquivo):\n",
    "    with open(nome_arquivo, 'r') as arq:\n",
    "        linhas = arq.readlines()\n",
    "\n",
    "    num_variaveis, num_restricoes = map(int, linhas[0].split())\n",
    "\n",
    "    # coeficientes da funcao objetivo\n",
    "    obj_coef = list(map(float, linhas[1].split()))\n",
    "\n",
    "    restricoes = [] # coeficientes das restricoes\n",
    "    rhs = [] # right hand side das restricoes\n",
    "\n",
    "    for i in range(2, num_restricoes+2):\n",
    "        restricoes.append(list(map(float, linhas[i].split()))[:-1])\n",
    "    \n",
    "    for i in range(2, num_restricoes+2):\n",
    "        #rhs.append(list(map(float,linhas[i].split()[-2:-1])))\n",
    "        rhs.append(float(linhas[i].split()[-1]))\n",
    "\n",
    "    return Problem(obj_coef, restricoes, rhs)"
   ]
  },
  {
   "cell_type": "code",
   "execution_count": 23,
   "metadata": {},
   "outputs": [],
   "source": [
    "main_path = '/Users/dorie/Downloads/UFPB/P4/PO/github/PESQUISA_OPERACIONAL/testes_utilizados'\n",
    "arq1 = main_path + '/teste1.txt'\n",
    "arq2 = main_path + '/teste2.txt'\n",
    "arq3 = main_path + '/teste3.txt'\n",
    "arq4 = main_path + '/teste4.txt'\n",
    "#C:\\Users\\dorie\\Downloads\\UFPB\\P4\\PO\\github\\Pesquisa_Operacional\\testes_utilizados\\teste1.txt"
   ]
  },
  {
   "cell_type": "code",
   "execution_count": 32,
   "metadata": {},
   "outputs": [],
   "source": [
    "def modelo(problema):\n",
    "\n",
    "\n",
    "    qtd_restricoes = len(problema.constraints_coeffs)\n",
    "    qtd_variaveis = len(problema.objective_coeffs)\n",
    "\n",
    "\n",
    "\n",
    "    model = Model(sense=MAXIMIZE, solver_name=CBC)\n",
    "    x = [model.add_var(var_type=CONTINUOUS,name=f\"x_{i}\",lb=0,ub=1.0) for i in range(len(problema.constraints_coeffs))]\n",
    "\n",
    "\n",
    "    '''print(\"Valores das variáveis x antes da otimização:\")\n",
    "    for variavel in x:\n",
    "        print(f\"{variavel.name}: {variavel.x}\")'''\n",
    "\n",
    "    model.objective = xsum(problema.objective_coeffs[i]*x[i] for i in range(qtd_variaveis)) \n",
    "    \n",
    "    for i in range(qtd_restricoes):\n",
    "        exp_restricao = xsum(problema.constraints_coeffs[i][j]*x[j] for j in range(qtd_variaveis))\n",
    "        model += exp_restricao <= problema.constraints_rhs[i]\n",
    "    \n",
    "    \n",
    "\n",
    "    \n",
    "    '''print(\"Status da otimização:\", status)\n",
    "    print(\"Valor da função objetivo:\", model.objective_value)'''\n",
    "\n",
    "    lista_solucao = []\n",
    "    #print(\"Solution:\")\n",
    "    for v in model.vars:\n",
    "        lista_solucao.append(v.x)\n",
    "\n",
    "    return model"
   ]
  },
  {
   "cell_type": "code",
   "execution_count": null,
   "metadata": {},
   "outputs": [],
   "source": []
  },
  {
   "cell_type": "code",
   "execution_count": 28,
   "metadata": {},
   "outputs": [
    {
     "name": "stdout",
     "output_type": "stream",
     "text": [
      "11\n"
     ]
    }
   ],
   "source": [
    "problem_arq1  = ler_dados(arq1)\n",
    "print(len(problem_arq1.constraints_coeffs))"
   ]
  },
  {
   "cell_type": "code",
   "execution_count": 33,
   "metadata": {},
   "outputs": [
    {
     "name": "stdout",
     "output_type": "stream",
     "text": [
      "28.749999999999996\n",
      "28.749999999999996\n",
      "x_0 = 0.0\n",
      "x_1 = 0.8749999999999997\n",
      "x_2 = 0.0\n",
      "x_3 = 0.0\n",
      "x_4 = 1.0\n",
      "x_5 = 1.0\n",
      "x_6 = 0.0\n",
      "x_7 = 0.0\n",
      "x_8 = 0.0\n",
      "x_9 = 0.0\n",
      "x_10 = 0.0\n",
      "OptimizationStatus.OPTIMAL\n"
     ]
    }
   ],
   "source": [
    "problem1 = modelo(problem_arq1)\n",
    "root = No(problem1)\n",
    "\n",
    "print(root.model.objective_value)\n",
    "\n",
    "queue = [root]\n",
    "nofinal = queue.pop(0)\n",
    "print(nofinal.model.objective_value)\n",
    "\n",
    "for var in nofinal.model.vars:\n",
    "    print(f\"{var.name} = {var.x}\")\n",
    "\n",
    "print(nofinal.model.status)"
   ]
  },
  {
   "cell_type": "code",
   "execution_count": null,
   "metadata": {},
   "outputs": [
    {
     "data": {
      "text/plain": [
       "2"
      ]
     },
     "execution_count": 232,
     "metadata": {},
     "output_type": "execute_result"
    }
   ],
   "source": [
    "queue = [1,2,3]\n",
    "queue.pop(0)\n",
    "queue[0]"
   ]
  },
  {
   "cell_type": "code",
   "execution_count": 36,
   "metadata": {},
   "outputs": [],
   "source": [
    "# identificar branching variable\n",
    "\n",
    "def identify_branching_variable(node):\n",
    "    for var in node.model.vars:\n",
    "        if var.x != 0.0 and var.x != 1.0:\n",
    "            return var\n",
    "    return None\n",
    "\n"
   ]
  },
  {
   "cell_type": "code",
   "execution_count": 35,
   "metadata": {},
   "outputs": [
    {
     "data": {
      "text/plain": [
       "<mip.entities.Var at 0x14ed0ec1400>"
      ]
     },
     "execution_count": 35,
     "metadata": {},
     "output_type": "execute_result"
    }
   ],
   "source": [
    "# funcao bound\n",
    "\n",
    "class BranchAndBound():\n",
    "\n",
    "    def __init__(self):\n",
    "        self.primal = 0\n",
    "        self.Z = 0\n",
    "        self.solution_vars = []\n",
    "\n",
    "    def bound(self, node):\n",
    "        node.model.optimize()\n",
    "\n",
    "        if node.model.status == OptimizationStatus.INFEASIBLE:\n",
    "            return \"INVIAVEL\",[], None\n",
    "        \n",
    "        elif node.model.status == OptimizationStatus.NO_SOLUTION_FOUND:\n",
    "            return \"NO SOLUTION\",[], None\n",
    "\n",
    "        elif node.model.objective_value <= self.primal: #podado/cortado/limitante\n",
    "            return \"PRUNING\",[], None\n",
    "\n",
    "        elif identify_branching_variable(node) == None:\n",
    "            print('Solução integral encontrada')\n",
    "            return \"INTEGRALIDADE\",node.model.vars,node.model.objective_value\n",
    "\n",
    "        return \"FRACIONARIO\",node.model.vars,node.model.objective_value\n",
    "\n",
    "\n",
    "    def branch_and_bound(problema_arq,self,node):\n",
    "        model_problem = modelo(problema_arq)\n",
    "        root = No(model_problem)\n",
    "        queue = [root]\n",
    "\n",
    "        while queue:\n",
    "            status, solution, objective = self.bound(queue[0])\n",
    "\n",
    "            if status in ['INVIAVEL','NO SOLUTION','PRUNING']:\n",
    "                queue.pop(0)\n",
    "\n",
    "            #elif status = 'INTEGRALIDADE':\n",
    "\n",
    "\n",
    "            \n",
    "            elif status == 'FRACIONARIO':\n",
    "                branch_var = identify_branching_variable(node)\n",
    "                no_explorado = queue.pop(0)\n",
    "\n",
    "                # xj = 0\n",
    "                novo_no1 = no_explorado.copy()\n",
    "                novo_no1.model = no_explorado.model.copy()\n",
    "                novo_no1.model += branch_var == 0\n",
    "\n",
    "                # xj = 1\n",
    "                novo_no2 = no_explorado.copy()\n",
    "                novo_no2.model = no_explorado.model.copy()\n",
    "                novo_no2.model += branch_var == 1\n",
    "\n",
    "                queue.append(novo_no1)\n",
    "                queue.append(novo_no2)\n",
    "\n",
    "\n",
    "\n",
    "\n",
    "    pass\n",
    "\n",
    "\n",
    "\n"
   ]
  },
  {
   "cell_type": "code",
   "execution_count": 39,
   "metadata": {},
   "outputs": [
    {
     "name": "stdout",
     "output_type": "stream",
     "text": [
      "[2, 34]\n",
      "1\n"
     ]
    }
   ],
   "source": [
    "queue = [1,2,34]\n",
    "a = queue.pop(0)\n",
    "print(queue)\n",
    "print(a)"
   ]
  },
  {
   "cell_type": "code",
   "execution_count": 53,
   "metadata": {},
   "outputs": [
    {
     "name": "stdout",
     "output_type": "stream",
     "text": [
      "a\n"
     ]
    }
   ],
   "source": [
    "class ponto:\n",
    "    def __init__(self,num,palavra):\n",
    "        self.num = num\n",
    "        self.palavra = palavra\n",
    "\n",
    "    def __copy__(self):\n",
    "        return (self.num, self.palavra)\n",
    "\n",
    "p1 = ponto(12,'a')\n",
    "p2 = p1\n",
    "p2.num = p1.num + 1\n"
   ]
  },
  {
   "cell_type": "code",
   "execution_count": null,
   "metadata": {},
   "outputs": [],
   "source": []
  }
 ],
 "metadata": {
  "kernelspec": {
   "display_name": "base",
   "language": "python",
   "name": "python3"
  },
  "language_info": {
   "codemirror_mode": {
    "name": "ipython",
    "version": 3
   },
   "file_extension": ".py",
   "mimetype": "text/x-python",
   "name": "python",
   "nbconvert_exporter": "python",
   "pygments_lexer": "ipython3",
   "version": "3.9.12"
  }
 },
 "nbformat": 4,
 "nbformat_minor": 2
}
