{
  "cells": [
    {
      "cell_type": "markdown",
      "source": [
        "z = solução otima\n"
      ],
      "metadata": {
        "id": "ZzwYctowGN1e"
      }
    },
    {
      "cell_type": "code",
      "source": [
        "!pip install mip"
      ],
      "metadata": {
        "colab": {
          "base_uri": "https://localhost:8080/"
        },
        "id": "K_pJVhDUnU_a",
        "outputId": "53d59d7b-4e9f-4bb0-9cfd-de56717a2082"
      },
      "execution_count": 59,
      "outputs": [
        {
          "output_type": "stream",
          "name": "stdout",
          "text": [
            "Requirement already satisfied: mip in /usr/local/lib/python3.10/dist-packages (1.15.0)\n",
            "Requirement already satisfied: cffi==1.15.* in /usr/local/lib/python3.10/dist-packages (from mip) (1.15.1)\n",
            "Requirement already satisfied: pycparser in /usr/local/lib/python3.10/dist-packages (from cffi==1.15.*->mip) (2.22)\n"
          ]
        }
      ]
    },
    {
      "cell_type": "code",
      "execution_count": 278,
      "metadata": {
        "id": "wxD8--cxm0re"
      },
      "outputs": [],
      "source": [
        "from mip import Model, CBC ,MAXIMIZE,CONTINUOUS, BINARY, xsum, OptimizationStatus\n",
        "import copy"
      ]
    },
    {
      "cell_type": "code",
      "execution_count": 228,
      "metadata": {
        "id": "OAiXHCVWm0rf"
      },
      "outputs": [],
      "source": [
        "class Problem:\n",
        "    def __init__(self, objective_coeffs, constraints_coeffs, constraints_rhs):\n",
        "        self.objective_coeffs = objective_coeffs #coef das funcoes objetivo.\n",
        "        self.constraints_coeffs = constraints_coeffs #coefs das restricçoes do problema\n",
        "        self.constraints_rhs = constraints_rhs # lados direitos das restricoes\n",
        "\n",
        "    #def __str__(self): #funcao para printar o problema\n",
        "    #   return f\"Maximize {self.objective_coeffs} \\nSubject to {self.constraints_coeffs} <= {self.constraints_rhs}\""
      ]
    },
    {
      "cell_type": "code",
      "execution_count": 279,
      "metadata": {
        "id": "kziKvDtam0rg"
      },
      "outputs": [],
      "source": [
        "class No:\n",
        "    def __init__(self, model):\n",
        "        self.model = model\n",
        "\n",
        "    def copy(self):\n",
        "      return No(copy.deepcopy(self.model))"
      ]
    },
    {
      "cell_type": "code",
      "execution_count": 281,
      "metadata": {
        "id": "Y8AdRyvEm0rg"
      },
      "outputs": [],
      "source": [
        "def ler_dados(nome_arquivo):\n",
        "    with open(nome_arquivo, 'r') as arq:\n",
        "        linhas = arq.readlines()\n",
        "\n",
        "    num_variaveis, num_restricoes = map(int, linhas[0].split())\n",
        "\n",
        "    # coeficientes da funcao objetivo\n",
        "    obj_coef = list(map(float, linhas[1].split()))\n",
        "\n",
        "    restricoes = [] # coeficientes das restricoes\n",
        "    rhs = [] # right hand side das restricoes\n",
        "\n",
        "    for i in range(2, num_restricoes+2):\n",
        "        restricoes.append(list(map(float, linhas[i].split()))[:-1])\n",
        "\n",
        "    for i in range(2, num_restricoes+2):\n",
        "        #rhs.append(list(map(float,linhas[i].split()[-2:-1])))\n",
        "        rhs.append(float(linhas[i].split()[-1]))\n",
        "\n",
        "    return Problem(obj_coef, restricoes, rhs)"
      ]
    },
    {
      "cell_type": "code",
      "execution_count": 282,
      "metadata": {
        "id": "ZYIIAXocm0rg"
      },
      "outputs": [],
      "source": [
        "#main_path = '/Users/dorie/Downloads/UFPB/P4/PO/github/PESQUISA_OPERACIONAL/testes_utilizados'\n",
        "arq1 =  '/content/teste1.txt'\n",
        "arq2 = '/content/teste2.txt'\n",
        "arq3 = '/content/teste3.txt'\n",
        "arq4 = '/content/teste4.txt'\n",
        "#C:\\Users\\dorie\\Downloads\\UFPB\\P4\\PO\\github\\Pesquisa_Operacional\\testes_utilizados\\teste1.txt"
      ]
    },
    {
      "cell_type": "code",
      "execution_count": 283,
      "metadata": {
        "id": "jb9vadrwm0rh"
      },
      "outputs": [],
      "source": [
        "def modelo(problema):\n",
        "\n",
        "\n",
        "    qtd_restricoes = len(problema.constraints_coeffs)\n",
        "    qtd_variaveis = len(problema.objective_coeffs)\n",
        "\n",
        "\n",
        "\n",
        "    model = Model(sense=MAXIMIZE, solver_name=CBC)\n",
        "    #lb e ub são os limites inferiores e superiores das VARIAVEIS e não do problema.\n",
        "    x = [model.add_var(var_type=CONTINUOUS,name=f\"x_{i}\",lb=0,ub=1.0) for i in range(len(problema.constraints_coeffs))]\n",
        "\n",
        "\n",
        "    '''print(\"Valores das variáveis x antes da otimização:\")\n",
        "    for variavel in x:\n",
        "        print(f\"{variavel.name}: {variavel.x}\")'''\n",
        "\n",
        "    model.objective = xsum(problema.objective_coeffs[i]*x[i] for i in range(qtd_variaveis))\n",
        "\n",
        "    for i in range(qtd_restricoes):\n",
        "        exp_restricao = xsum(problema.constraints_coeffs[i][j]*x[j] for j in range(qtd_variaveis))\n",
        "        model += exp_restricao <= problema.constraints_rhs[i]\n",
        "\n",
        "\n",
        "    #model.optimize()\n",
        "\n",
        "    '''print(\"Status da otimização:\", status)\n",
        "    print(\"Valor da função objetivo:\", model.objective_value)'''\n",
        "\n",
        "    lista_solucao = []\n",
        "    #print(\"Solution:\")\n",
        "    for v in model.vars:\n",
        "        lista_solucao.append(v.x)\n",
        "\n",
        "    return model"
      ]
    },
    {
      "cell_type": "code",
      "execution_count": 284,
      "metadata": {
        "id": "FJq4Z6Hmm0rh"
      },
      "outputs": [],
      "source": [
        "# identificar branching variable\n",
        "\n",
        "def identify_branching_variable(node):\n",
        "    variables = node.model.vars\n",
        "\n",
        "    list_dif = []\n",
        "    for var in variables:\n",
        "        min_dif = (abs(var.x-0.5))\n",
        "        list_dif.append(min_dif)\n",
        "\n",
        "    min_dif = min(list_dif)\n",
        "\n",
        "    for var in variables:\n",
        "      if var.x == (min_dif+0.5):\n",
        "        return var\n",
        "\n",
        "    print('Não há variável fracionária')\n",
        "    return None"
      ]
    },
    {
      "cell_type": "code",
      "execution_count": 285,
      "metadata": {
        "colab": {
          "base_uri": "https://localhost:8080/",
          "height": 53
        },
        "id": "c7JTbN2wm0ri",
        "outputId": "09db97a3-e4cf-49e8-dce3-b76405f386c2"
      },
      "outputs": [
        {
          "output_type": "execute_result",
          "data": {
            "text/plain": [
              "'\\nproblem1 = ler_dados(arq1)\\nmodel_1 = modelo(problem1)\\nno_test = No(model_1)\\n\\na = identify_branching_variable(no_test)\\nprint(a.x)\\n'"
            ],
            "application/vnd.google.colaboratory.intrinsic+json": {
              "type": "string"
            }
          },
          "metadata": {},
          "execution_count": 285
        }
      ],
      "source": [
        "#@title testando\n",
        "\"\"\"\n",
        "problem1 = ler_dados(arq1)\n",
        "model_1 = modelo(problem1)\n",
        "no_test = No(model_1)\n",
        "\n",
        "a = identify_branching_variable(no_test)\n",
        "print(a.x)\n",
        "\"\"\""
      ]
    },
    {
      "cell_type": "code",
      "execution_count": 286,
      "metadata": {
        "id": "HJjb708qm0ri"
      },
      "outputs": [],
      "source": [
        "# funcao bound\n",
        "\n",
        "class BranchAndBound():\n",
        "\n",
        "    def __init__(self):\n",
        "        self.primal = 0\n",
        "        self.Z = 0\n",
        "        self.solution_vars = []\n",
        "\n",
        "    def bound(self, node):\n",
        "      node.model.optimize()\n",
        "\n",
        "      if node.model.status == OptimizationStatus.INFEASIBLE:\n",
        "        return \"INVIAVEL\",[], None\n",
        "\n",
        "      if node.model.status == OptimizationStatus.NO_SOLUTION_FOUND:\n",
        "        return \"NO SOLUTION\",[], None\n",
        "\n",
        "      if node.model.objective_value <= self.primal:\n",
        "        return \"PODADO\",[], None\n",
        "\n",
        "      if not identify_branching_variable(node):\n",
        "        print('Solução integral encontrada')\n",
        "        return \"INTEGRALIDADE\",node.model.vars,node.model.objective_value\n",
        "\n",
        "      return \"FRACIONARIO\", node.model.vars, node.model.objective_value\n",
        "\n",
        "\n",
        "    def branch_and_bound(self,node):\n",
        "        queue = [node]\n",
        "\n",
        "        while queue:\n",
        "            print(\"whilw\")\n",
        "            status, var_solutions, objective = self.bound(queue[0])\n",
        "\n",
        "            print(status, var_solutions, objective)\n",
        "\n",
        "            if status in ['INVIAVEL','NO SOLUTION','PODADO']:\n",
        "                queue.pop(0)\n",
        "\n",
        "                print(\"if1\", queue)\n",
        "                queue\n",
        "\n",
        "            elif status == 'INTEGRALIDADE':\n",
        "              if objective > self.primal:\n",
        "                self.primal = objective\n",
        "                self.Z = objective\n",
        "                self.solutions_vars = var_solutions\n",
        "\n",
        "                print(\"if2\")\n",
        "\n",
        "            elif status == 'FRACIONARIO':\n",
        "                no_explorado = queue.pop(0)\n",
        "                branch_var = identify_branching_variable(no_explorado)\n",
        "\n",
        "                print(\"if3\", queue)\n",
        "\n",
        "                # xj = 0\n",
        "                novo_no1 = no_explorado\n",
        "                novo_no1.model += branch_var == 0\n",
        "\n",
        "                # xj = 1\n",
        "                novo_no2 = no_explorado\n",
        "                novo_no2.model += branch_var == 1\n",
        "\n",
        "                queue.append(novo_no1)\n",
        "                queue.append(novo_no2)\n",
        "\n",
        "                print(\"pos fracionario\", queue)\n",
        "\n",
        "            print(status, var_solutions, objective)\n",
        "\n",
        "        return self.primal, self.Z, self.solution_vars"
      ]
    },
    {
      "cell_type": "code",
      "source": [
        "def bound(node):\n",
        "  node.model.optimize()\n",
        "\n",
        "  if node.model.status == OptimizationStatus.INFEASIBLE:\n",
        "    return \"INVIAVEL\",[], None\n",
        "\n",
        "  if node.model.status == OptimizationStatus.NO_SOLUTION_FOUND:\n",
        "    return \"NO SOLUTION\",[], None\n",
        "\n",
        "  if node.model.objective_value <= 0:\n",
        "    return \"PODADO\",[], None\n",
        "\n",
        "  if not identify_branching_variable(node):\n",
        "    print('Solução integral encontrada')\n",
        "    return \"INTEGRALIDADE\",node.model.vars,node.model.objective_value\n",
        "\n",
        "  return \"FRACIONARIO\", node.model.vars, node.model.objective_value\n",
        "\n",
        "\n",
        "\n",
        "\n",
        "problem1 = ler_dados(arq1)\n",
        "model_1 = modelo(problem1)\n",
        "\n",
        "no_test = No(model_1)\n",
        "'''no_test.model.optimize()\n",
        "no_test.model.objective_value'''\n",
        "\n",
        "b = bound(no_test)\n",
        "b[2]\n",
        "\n"
      ],
      "metadata": {
        "colab": {
          "base_uri": "https://localhost:8080/"
        },
        "id": "VYGxvni8L5mF",
        "outputId": "ac985fba-2a48-4e9f-a527-8e95b4f086aa"
      },
      "execution_count": 295,
      "outputs": [
        {
          "output_type": "execute_result",
          "data": {
            "text/plain": [
              "28.749999999999996"
            ]
          },
          "metadata": {},
          "execution_count": 295
        }
      ]
    },
    {
      "cell_type": "code",
      "source": [
        "queue = [no_test]\n",
        "print(queue[0].model.objective_value)\n",
        "\n",
        "status, var_solutions, objective = bound(queue[0])\n",
        "\n",
        "print(status, var_solutions, objective)\n",
        "\n",
        "no_explorado = queue.pop(0)\n",
        "\n",
        "print(no_explorado)\n",
        "queue\n",
        "\n",
        "branch_var = identify_branching_variable(no_explorado)\n",
        "\n",
        "print(branch_var)\n",
        "\n",
        "# xj = 0\n",
        "novo_no1 = no_explorado\n",
        "novo_no1.model += branch_var == 0\n",
        "\n",
        "queue.append(novo_no1)\n",
        "\n",
        "print(queue[0].model.objective_value)\n"
      ],
      "metadata": {
        "colab": {
          "base_uri": "https://localhost:8080/"
        },
        "id": "iyrFABXHQvu8",
        "outputId": "f6acea6c-c521-4608-df98-cb9dbf86004d"
      },
      "execution_count": 296,
      "outputs": [
        {
          "output_type": "stream",
          "name": "stdout",
          "text": [
            "28.749999999999996\n",
            "FRACIONARIO <mip.lists.VarList object at 0x7ed4e41ee110> 28.749999999999996\n",
            "<__main__.No object at 0x7ed4e41eeda0>\n",
            "x_1\n",
            "28.749999999999996\n"
          ]
        }
      ]
    },
    {
      "cell_type": "code",
      "source": [
        "problem1 = ler_dados(arq1)\n",
        "model_1 = modelo(problem1)\n",
        "no_test = No(model_1)\n",
        "a = BranchAndBound()\n",
        "a.branch_and_bound(no_test)"
      ],
      "metadata": {
        "id": "6dlhfudoHWwl"
      },
      "execution_count": null,
      "outputs": []
    },
    {
      "cell_type": "code",
      "execution_count": null,
      "metadata": {
        "id": "Zn0qCkELm0rj"
      },
      "outputs": [],
      "source": [
        "queue = [1,2,34]\n",
        "a = queue.pop(0)\n",
        "print(queue)\n",
        "print(a)"
      ]
    },
    {
      "cell_type": "code",
      "execution_count": null,
      "metadata": {
        "id": "tvt8LM_sm0rj"
      },
      "outputs": [],
      "source": [
        "class ponto:\n",
        "    def __init__(self,num,palavra):\n",
        "        self.num = num\n",
        "        self.palavra = palavra\n",
        "\n",
        "    def __copy__(self):\n",
        "        return (self.num, self.palavra)\n",
        "\n",
        "p1 = ponto(12,'a')\n",
        "p2 = p1\n",
        "p2.num = p1.num + 1\n"
      ]
    },
    {
      "cell_type": "code",
      "execution_count": null,
      "metadata": {
        "id": "6U-zaZ_hm0rj"
      },
      "outputs": [],
      "source": []
    }
  ],
  "metadata": {
    "kernelspec": {
      "display_name": "base",
      "language": "python",
      "name": "python3"
    },
    "language_info": {
      "codemirror_mode": {
        "name": "ipython",
        "version": 3
      },
      "file_extension": ".py",
      "mimetype": "text/x-python",
      "name": "python",
      "nbconvert_exporter": "python",
      "pygments_lexer": "ipython3",
      "version": "3.12.0"
    },
    "colab": {
      "provenance": []
    }
  },
  "nbformat": 4,
  "nbformat_minor": 0
}