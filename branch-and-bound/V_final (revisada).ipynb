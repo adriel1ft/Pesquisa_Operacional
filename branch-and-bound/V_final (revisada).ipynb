{
  "cells": [
    {
      "cell_type": "markdown",
      "metadata": {
        "id": "ZzwYctowGN1e"
      },
      "source": [
        "# Trabalho Final (Algoritmo Branch and Bound)\n",
        "Alunos: Adriel Ferreira Trajano e Kamily Assis de Oliveira\n",
        "\n",
        "## Regra de ramificação\n",
        "\n",
        "Nosso código ramifica em torno da variável $x_{j}$ cujo valor é fracionário e o mais próximo possível de 0,5. Em um filho, adiciona-se a restrição $x_{j}$ = 1; no outro, a restrição $x_{j}$ = 0.\n",
        "\n",
        "## Estratégia de ramificação\n",
        "\n",
        "A estratégia de ramificação do nosso código segue a abordagem padrão do branch and bound implementado com fila (queue).\n",
        "\n"
      ]
    },
    {
      "cell_type": "code",
      "execution_count": 1,
      "metadata": {
        "id": "wxD8--cxm0re"
      },
      "outputs": [],
      "source": [
        "from mip import Model, CBC ,MAXIMIZE,CONTINUOUS, xsum, OptimizationStatus"
      ]
    },
    {
      "cell_type": "code",
      "execution_count": 2,
      "metadata": {
        "id": "OAiXHCVWm0rf"
      },
      "outputs": [],
      "source": [
        "class Problem:\n",
        "    def __init__(self, objective_coeffs, constraints_coeffs, constraints_rhs):\n",
        "        self.objective_coeffs = objective_coeffs #coef das funcoes objetivo.\n",
        "        self.constraints_coeffs = constraints_coeffs #coefs das restricçoes do problema\n",
        "        self.constraints_rhs = constraints_rhs # lados direitos das restricoes\n"
      ]
    },
    {
      "cell_type": "code",
      "execution_count": 3,
      "metadata": {
        "id": "kziKvDtam0rg"
      },
      "outputs": [],
      "source": [
        "class No:\n",
        "    def __init__(self, model):\n",
        "        self.model = model\n",
        "\n",
        "    def add_constraint(self, constraint):\n",
        "        self.model += constraint"
      ]
    },
    {
      "cell_type": "code",
      "execution_count": 4,
      "metadata": {
        "id": "jb9vadrwm0rh"
      },
      "outputs": [],
      "source": [
        "def modelo(problema):\n",
        "\n",
        "    qtd_restricoes = len(problema.constraints_coeffs)\n",
        "    qtd_variaveis = len(problema.objective_coeffs)\n",
        "\n",
        "    model = Model(sense=MAXIMIZE, solver_name=CBC)\n",
        "    #lb e ub são os limites inferiores e superiores das VARIAVEIS e não do problema.\n",
        "    x = [model.add_var(var_type=CONTINUOUS,name=f\"x_{i}\",lb=0,ub=1.0) for i in range(len(problema.constraints_coeffs))]\n",
        "\n",
        "\n",
        "    model.objective = xsum(problema.objective_coeffs[i]*x[i] for i in range(qtd_variaveis))\n",
        "\n",
        "    for i in range(qtd_restricoes):\n",
        "        exp_restricao = xsum(problema.constraints_coeffs[i][j]*x[j] for j in range(qtd_variaveis))\n",
        "        model += exp_restricao <= problema.constraints_rhs[i]\n",
        "\n",
        "    return model"
      ]
    },
    {
      "cell_type": "code",
      "execution_count": 5,
      "metadata": {},
      "outputs": [],
      "source": [
        "# identifica branching variable\n",
        "\n",
        "def identify_branching_variable(node):\n",
        "    variables = node.model.vars\n",
        "    fractional_variables = [var for var in variables if var.x != int(var.x)]\n",
        "\n",
        "    if not fractional_variables:\n",
        "        return None\n",
        "\n",
        "    # encontra a variável mais próxima de 0.5\n",
        "    min_dif = min(abs(var.x - 0.5) for var in fractional_variables)\n",
        "    branching_variable = [var for var in fractional_variables if abs(var.x - 0.5) == min_dif][0]\n",
        "\n",
        "    return branching_variable"
      ]
    },
    {
      "cell_type": "code",
      "execution_count": 6,
      "metadata": {
        "id": "HJjb708qm0ri"
      },
      "outputs": [],
      "source": [
        "# funcao bound\n",
        "\n",
        "class BranchAndBound():\n",
        "\n",
        "    def __init__(self):\n",
        "        self.primal = 0\n",
        "        self.solution_vars = []\n",
        "\n",
        "    def bound(self, node):\n",
        "      node.model.optimize()\n",
        "\n",
        "      if node.model.status == OptimizationStatus.INFEASIBLE:\n",
        "        return \"INVIAVEL\",[], None\n",
        "\n",
        "      if node.model.status == OptimizationStatus.NO_SOLUTION_FOUND:\n",
        "        return \"NO SOLUTION\",[], None\n",
        "\n",
        "      if node.model.objective_value <= self.primal:\n",
        "        return \"PODADO\",[], None\n",
        "\n",
        "      if not identify_branching_variable(node):\n",
        "        return \"INTEGRALIDADE\",node.model.vars,node.model.objective_value\n",
        "\n",
        "      return \"FRACIONARIO\", node.model.vars, node.model.objective_value\n",
        "\n",
        "\n",
        "    def branch_and_bound(self,node):\n",
        "        queue = [node]\n",
        "\n",
        "        while queue:\n",
        "            status, var_solutions, objective = self.bound(queue[0])\n",
        "\n",
        "            if status in ['INVIAVEL','NO SOLUTION','PODADO']:\n",
        "                queue.pop(0)\n",
        "\n",
        "            elif status == 'INTEGRALIDADE':\n",
        "              if objective > self.primal:\n",
        "                self.primal = objective\n",
        "                self.solution_vars = var_solutions\n",
        "\n",
        "            elif status == 'FRACIONARIO':\n",
        "                no_explorado = queue.pop(0)\n",
        "                branch_var = identify_branching_variable(no_explorado)\n",
        "\n",
        "                # xj = 0\n",
        "                cloned_model = no_explorado.model.copy()\n",
        "                novo_no1 = No(cloned_model)\n",
        "                new_constraint = branch_var == 0\n",
        "                novo_no1.add_constraint(new_constraint)\n",
        "\n",
        "                # xj = 1\n",
        "                cloned_model = no_explorado.model.copy()\n",
        "                novo_no2 = No(cloned_model)\n",
        "                new_constraint = branch_var == 1\n",
        "                novo_no2.add_constraint(new_constraint)\n",
        "\n",
        "                queue.append(novo_no1)\n",
        "                queue.append(novo_no2)\n",
        "\n",
        "\n",
        "        return self.primal, self.solution_vars"
      ]
    },
    {
      "cell_type": "code",
      "execution_count": 7,
      "metadata": {},
      "outputs": [],
      "source": [
        "def ler_dados(nome_arquivo):\n",
        "    with open(nome_arquivo, 'r') as arq:\n",
        "        linhas = arq.readlines()\n",
        "\n",
        "    num_variaveis, num_restricoes = map(int, linhas[0].split())\n",
        "\n",
        "    # coeficientes da funcao objetivo\n",
        "    obj_coef = list(map(float, linhas[1].split()))\n",
        "\n",
        "    restricoes = [] # coeficientes das restricoes\n",
        "    rhs = [] # right hand side das restricoes\n",
        "\n",
        "    for i in range(2, num_restricoes+2):\n",
        "        restricoes.append(list(map(float, linhas[i].split()))[:-1])\n",
        "\n",
        "    for i in range(2, num_restricoes+2):\n",
        "        #rhs.append(list(map(float,linhas[i].split()[-2:-1])))\n",
        "        rhs.append(float(linhas[i].split()[-1]))\n",
        "\n",
        "    return Problem(obj_coef, restricoes, rhs)"
      ]
    },
    {
      "cell_type": "code",
      "execution_count": 8,
      "metadata": {},
      "outputs": [],
      "source": [
        "main_path = '/Users/dorie/Downloads/UFPB/P4/PO/github/PESQUISA_OPERACIONAL/testes_utilizados'\n",
        "arq1 =  main_path + '/teste1.txt'\n",
        "arq2 = main_path + '/teste2.txt'\n",
        "arq3 = main_path + '/teste3.txt'\n",
        "arq4 = main_path + '/teste4.txt'"
      ]
    },
    {
      "cell_type": "code",
      "execution_count": 9,
      "metadata": {
        "id": "6dlhfudoHWwl"
      },
      "outputs": [
        {
          "name": "stdout",
          "output_type": "stream",
          "text": [
            "Teste 1:\n",
            "x_0: 0.0\n",
            "x_1: 0.0\n",
            "x_2: 0.0\n",
            "x_3: 0.0\n",
            "x_4: 1.0\n",
            "x_5: 1.0\n",
            "x_6: 0.0\n",
            "x_7: 0.0\n",
            "x_8: 0.0\n",
            "x_9: 0.0\n",
            "x_10: 0.0\n",
            "Solução Ótima:  20.0\n",
            "\n",
            "\n",
            "Teste 2:\n",
            "x_0: 0.0\n",
            "x_1: 0.0\n",
            "x_2: 0.0\n",
            "x_3: 0.0\n",
            "x_4: 0.0\n",
            "x_5: 1.0\n",
            "x_6: 1.0\n",
            "x_7: 0.0\n",
            "x_8: 1.0\n",
            "Solução Ótima:  24.0\n",
            "\n",
            "\n",
            "Teste 3:\n",
            "x_0: 0.0\n",
            "x_1: 0.0\n",
            "x_2: 1.0\n",
            "x_3: 0.0\n",
            "x_4: 0.0\n",
            "x_5: 0.0\n",
            "x_6: 1.0\n",
            "x_7: 0.0\n",
            "x_8: 0.0\n",
            "x_9: 0.0\n",
            "x_10: 0.0\n",
            "x_11: 0.0\n",
            "Solução Ótima:  19.0\n",
            "\n",
            "\n",
            "Teste 4:\n",
            "x_0: 0.0\n",
            "x_1: 0.0\n",
            "x_2: 1.0\n",
            "x_3: 0.0\n",
            "x_4: 0.0\n",
            "x_5: 0.0\n",
            "x_6: 0.0\n",
            "x_7: 0.0\n",
            "x_8: 0.0\n",
            "Solução Ótima:  10.0\n",
            "\n",
            "\n"
          ]
        }
      ],
      "source": [
        "# testes\n",
        "\n",
        "arq = {1:arq1,2:arq2,3:arq3,4:arq4}\n",
        "for i in arq:\n",
        "    \n",
        "    print(f\"Teste {i}:\")\n",
        "\n",
        "    problema = ler_dados(arq[i])\n",
        "    model = modelo(problema)\n",
        "    no = No(model)\n",
        "    teste_bb = BranchAndBound()\n",
        "    solucao_otm, vars = teste_bb.branch_and_bound(no)\n",
        "\n",
        "    for var in vars:\n",
        "        print(f\"{var.name}: {var.x}\")\n",
        "\n",
        "    print(\"Solução Ótima: \", solucao_otm)\n",
        "    print(\"\\n\")"
      ]
    }
  ],
  "metadata": {
    "colab": {
      "provenance": []
    },
    "kernelspec": {
      "display_name": "base",
      "language": "python",
      "name": "python3"
    },
    "language_info": {
      "codemirror_mode": {
        "name": "ipython",
        "version": 3
      },
      "file_extension": ".py",
      "mimetype": "text/x-python",
      "name": "python",
      "nbconvert_exporter": "python",
      "pygments_lexer": "ipython3",
      "version": "3.9.12"
    }
  },
  "nbformat": 4,
  "nbformat_minor": 0
}
